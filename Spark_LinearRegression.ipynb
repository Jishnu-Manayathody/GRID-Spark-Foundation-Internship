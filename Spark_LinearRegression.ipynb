{
 "cells": [
  {
   "cell_type": "markdown",
   "id": "29dea9a4-2cbd-4a4f-8fa3-cc1f8425f80d",
   "metadata": {},
   "source": [
    "# GRIP: The Spark Foundation"
   ]
  },
  {
   "cell_type": "markdown",
   "id": "2e2e77b1-1b5a-49ad-9c21-4f03226998f6",
   "metadata": {},
   "source": [
    "### Data Science and Business Analytics intern"
   ]
  },
  {
   "cell_type": "markdown",
   "id": "8ec2f93a-4a77-44bd-b080-dcd1c97a617b",
   "metadata": {},
   "source": [
    "### Author : JISHNU M"
   ]
  },
  {
   "cell_type": "markdown",
   "id": "c26be15f-ab14-4d75-b8a1-8c021b4d20b6",
   "metadata": {},
   "source": [
    "### Batch : July 2022"
   ]
  },
  {
   "cell_type": "markdown",
   "id": "e3e1089d-b383-4a8f-a491-2f7b6f55134b",
   "metadata": {},
   "source": [
    "### Task1 : Prediction using Supervised ML"
   ]
  },
  {
   "cell_type": "code",
   "execution_count": 1,
   "id": "27ba013f-a498-44aa-9239-c62d51b3fdd5",
   "metadata": {},
   "outputs": [],
   "source": [
    "import pandas as pd\n",
    "import matplotlib.pyplot as plt"
   ]
  },
  {
   "cell_type": "code",
   "execution_count": 2,
   "id": "8dc2f3dc-f8ab-4a3d-bb4c-8deeb687f670",
   "metadata": {},
   "outputs": [
    {
     "data": {
      "text/html": [
       "<div>\n",
       "<style scoped>\n",
       "    .dataframe tbody tr th:only-of-type {\n",
       "        vertical-align: middle;\n",
       "    }\n",
       "\n",
       "    .dataframe tbody tr th {\n",
       "        vertical-align: top;\n",
       "    }\n",
       "\n",
       "    .dataframe thead th {\n",
       "        text-align: right;\n",
       "    }\n",
       "</style>\n",
       "<table border=\"1\" class=\"dataframe\">\n",
       "  <thead>\n",
       "    <tr style=\"text-align: right;\">\n",
       "      <th></th>\n",
       "      <th>Hours</th>\n",
       "      <th>Scores</th>\n",
       "    </tr>\n",
       "  </thead>\n",
       "  <tbody>\n",
       "    <tr>\n",
       "      <th>0</th>\n",
       "      <td>2.5</td>\n",
       "      <td>21</td>\n",
       "    </tr>\n",
       "    <tr>\n",
       "      <th>1</th>\n",
       "      <td>5.1</td>\n",
       "      <td>47</td>\n",
       "    </tr>\n",
       "    <tr>\n",
       "      <th>2</th>\n",
       "      <td>3.2</td>\n",
       "      <td>27</td>\n",
       "    </tr>\n",
       "    <tr>\n",
       "      <th>3</th>\n",
       "      <td>8.5</td>\n",
       "      <td>75</td>\n",
       "    </tr>\n",
       "    <tr>\n",
       "      <th>4</th>\n",
       "      <td>3.5</td>\n",
       "      <td>30</td>\n",
       "    </tr>\n",
       "  </tbody>\n",
       "</table>\n",
       "</div>"
      ],
      "text/plain": [
       "   Hours  Scores\n",
       "0    2.5      21\n",
       "1    5.1      47\n",
       "2    3.2      27\n",
       "3    8.5      75\n",
       "4    3.5      30"
      ]
     },
     "execution_count": 2,
     "metadata": {},
     "output_type": "execute_result"
    }
   ],
   "source": [
    "url = \"http://bit.ly/w-data\"\n",
    "data = pd.read_csv(url)\n",
    "data.head()"
   ]
  },
  {
   "cell_type": "code",
   "execution_count": 3,
   "id": "9425156b-209e-41a9-88d6-9c589ef37388",
   "metadata": {},
   "outputs": [
    {
     "data": {
      "image/png": "[encoded data removed]",
      "text/plain": [
       "<Figure size 1440x720 with 1 Axes>"
      ]
     },
     "metadata": {
      "needs_background": "light"
     },
     "output_type": "display_data"
    }
   ],
   "source": [
    "plt.figure(figsize=(20,10))\n",
    "plt.xlabel(\"Number of Study Hours\",fontsize=15)\n",
    "plt.ylabel(\"Marks Scored\",fontsize=15)\n",
    "plt.title(\"Study Hours vs Marks scored\",fontsize=25)\n",
    "plt.scatter(data[\"Hours\"],data[\"Scores\"],color=\"blue\")\n",
    "plt.show()"
   ]
  },
  {
   "cell_type": "code",
   "execution_count": 4,
   "id": "d2d4bcbd-3572-4786-98a2-6c2b2e484f1b",
   "metadata": {},
   "outputs": [
    {
     "data": {
      "text/html": [
       "<div>\n",
       "<style scoped>\n",
       "    .dataframe tbody tr th:only-of-type {\n",
       "        vertical-align: middle;\n",
       "    }\n",
       "\n",
       "    .dataframe tbody tr th {\n",
       "        vertical-align: top;\n",
       "    }\n",
       "\n",
       "    .dataframe thead th {\n",
       "        text-align: right;\n",
       "    }\n",
       "</style>\n",
       "<table border=\"1\" class=\"dataframe\">\n",
       "  <thead>\n",
       "    <tr style=\"text-align: right;\">\n",
       "      <th></th>\n",
       "      <th>Hours</th>\n",
       "      <th>Scores</th>\n",
       "    </tr>\n",
       "  </thead>\n",
       "  <tbody>\n",
       "    <tr>\n",
       "      <th>Hours</th>\n",
       "      <td>1.000000</td>\n",
       "      <td>0.976191</td>\n",
       "    </tr>\n",
       "    <tr>\n",
       "      <th>Scores</th>\n",
       "      <td>0.976191</td>\n",
       "      <td>1.000000</td>\n",
       "    </tr>\n",
       "  </tbody>\n",
       "</table>\n",
       "</div>"
      ],
      "text/plain": [
       "           Hours    Scores\n",
       "Hours   1.000000  0.976191\n",
       "Scores  0.976191  1.000000"
      ]
     },
     "execution_count": 4,
     "metadata": {},
     "output_type": "execute_result"
    }
   ],
   "source": [
    "# Finding Pearson correlation\n",
    "data.corr(method=\"pearson\")"
   ]
  },
  {
   "cell_type": "markdown",
   "id": "1a651717-2883-41f9-8126-29a37cb705e5",
   "metadata": {},
   "source": [
    "The Pearson correlation measures the strength of the linear relationship between two variables. It has a value between -1 to 1, with a value of -1 meaning a total negative linear correlation, 0 being no correlation, and + 1 meaning a total positive correlation.\n",
    "\n",
    "Here we have pearson score of 0.976191 signifies that there is a strong positive correlation between marks scored and number of hours studied.\n"
   ]
  },
  {
   "cell_type": "markdown",
   "id": "e803ef38-334d-420e-bc27-8e55bc45fadd",
   "metadata": {},
   "source": [
    "## Using Linear Regression"
   ]
  },
  {
   "cell_type": "code",
   "execution_count": 5,
   "id": "d926bda0-8dae-4f19-bd92-94bd203a80ea",
   "metadata": {},
   "outputs": [],
   "source": [
    "from sklearn.model_selection import train_test_split\n",
    "from sklearn.linear_model import LinearRegression"
   ]
  },
  {
   "cell_type": "code",
   "execution_count": 6,
   "id": "eb02b9c7-5055-4cf5-a1d2-fa557a6c3cd5",
   "metadata": {},
   "outputs": [],
   "source": [
    "#extracting data into arrays\n",
    "X = data.iloc[:,:-1].values\n",
    "y = data.iloc[:,1].values"
   ]
  },
  {
   "cell_type": "code",
   "execution_count": 7,
   "id": "fefb2311-1a8b-4756-9218-2e0321f328cf",
   "metadata": {},
   "outputs": [
    {
     "data": {
      "text/plain": [
       "array([[2.5],\n",
       "       [5.1],\n",
       "       [3.2],\n",
       "       [8.5],\n",
       "       [3.5],\n",
       "       [1.5],\n",
       "       [9.2],\n",
       "       [5.5],\n",
       "       [8.3],\n",
       "       [2.7],\n",
       "       [7.7],\n",
       "       [5.9],\n",
       "       [4.5],\n",
       "       [3.3],\n",
       "       [1.1],\n",
       "       [8.9],\n",
       "       [2.5],\n",
       "       [1.9],\n",
       "       [6.1],\n",
       "       [7.4],\n",
       "       [2.7],\n",
       "       [4.8],\n",
       "       [3.8],\n",
       "       [6.9],\n",
       "       [7.8]])"
      ]
     },
     "execution_count": 7,
     "metadata": {},
     "output_type": "execute_result"
    }
   ],
   "source": [
    "X"
   ]
  },
  {
   "cell_type": "code",
   "execution_count": 8,
   "id": "bc7e6ff3-069a-4127-b7ee-4ff399be0f7c",
   "metadata": {},
   "outputs": [
    {
     "data": {
      "text/plain": [
       "array([21, 47, 27, 75, 30, 20, 88, 60, 81, 25, 85, 62, 41, 42, 17, 95, 30,\n",
       "       24, 67, 69, 30, 54, 35, 76, 86], dtype=int64)"
      ]
     },
     "execution_count": 8,
     "metadata": {},
     "output_type": "execute_result"
    }
   ],
   "source": [
    "y"
   ]
  },
  {
   "cell_type": "code",
   "execution_count": 9,
   "id": "0fdcd141-0f0d-42cb-afb1-7248a6a34797",
   "metadata": {},
   "outputs": [],
   "source": [
    "X_train,X_test,y_train,y_test = train_test_split(X,y,test_size = 0.25,random_state=30)"
   ]
  },
  {
   "cell_type": "code",
   "execution_count": 10,
   "id": "e916dfab-3a22-4be4-a52f-5e3b696fa75e",
   "metadata": {},
   "outputs": [
    {
     "data": {
      "text/plain": [
       "LinearRegression()"
      ]
     },
     "execution_count": 10,
     "metadata": {},
     "output_type": "execute_result"
    }
   ],
   "source": [
    "lr = LinearRegression()\n",
    "lr.fit(X_train,y_train)"
   ]
  },
  {
   "cell_type": "code",
   "execution_count": 11,
   "id": "bdd95eab-fb95-479f-9c1c-9f934c202228",
   "metadata": {},
   "outputs": [
    {
     "data": {
      "image/png": "[encoded data removed]",
      "text/plain": [
       "<Figure size 1440x720 with 1 Axes>"
      ]
     },
     "metadata": {
      "needs_background": "light"
     },
     "output_type": "display_data"
    }
   ],
   "source": [
    "m = lr.coef_\n",
    "c = lr.intercept_\n",
    "l = m*X + c\n",
    "plt.figure(figsize=(20,10))\n",
    "plt.title(\"Best Fit line\",fontsize=20)\n",
    "plt.xlabel(\"X : Hours Studied\", fontsize = 15)\n",
    "plt.ylabel(\"Y : Marks Obtained\", fontsize = 15)\n",
    "plt.scatter(X,y,color=\"blue\")\n",
    "plt.plot(X,l,color=\"orange\")\n",
    "plt.show()"
   ]
  },
  {
   "cell_type": "code",
   "execution_count": 12,
   "id": "4b417275-f1f8-4eac-aa16-130014da2fb7",
   "metadata": {},
   "outputs": [],
   "source": [
    "y_pred = lr.predict(X_test)"
   ]
  },
  {
   "cell_type": "markdown",
   "id": "8dfca75e-d6fe-49fd-90dc-8f015712f374",
   "metadata": {},
   "source": [
    "### What will be the predicted score if student studies for 9.25 hours?"
   ]
  },
  {
   "cell_type": "code",
   "execution_count": 13,
   "id": "2dfd69be-a3f4-47d7-955b-ce800fe69a4b",
   "metadata": {},
   "outputs": [
    {
     "name": "stdout",
     "output_type": "stream",
     "text": [
      "If a student studies for 9.25 hours a day then linear regression predicts thar he/she scores [92.65400479] marks.\n"
     ]
    }
   ],
   "source": [
    "hour = 9.25\n",
    "score = lr.predict([[hour]])\n",
    "print(\"If a student studies for {} hours a day then linear regression predicts thar he/she scores {} marks.\".format(hour,score))"
   ]
  },
  {
   "cell_type": "markdown",
   "id": "747c0cb6-2b86-49b0-8416-2bc42f60f839",
   "metadata": {},
   "source": [
    "### Model Evaluation"
   ]
  },
  {
   "cell_type": "code",
   "execution_count": 14,
   "id": "2c87fe07-0e3c-46b3-9107-50950d4d6850",
   "metadata": {},
   "outputs": [],
   "source": [
    "from sklearn.metrics import r2_score,mean_squared_error,mean_absolute_error\n",
    "from math import sqrt"
   ]
  },
  {
   "cell_type": "code",
   "execution_count": 15,
   "id": "575defe2-e9ca-48cf-8247-5528fcccae77",
   "metadata": {},
   "outputs": [
    {
     "name": "stdout",
     "output_type": "stream",
     "text": [
      "The R2 Score for model is 0.9516571833163731\n"
     ]
    }
   ],
   "source": [
    "print(\"The R2 Score for model is {}\".format(r2_score(y_test,y_pred)))"
   ]
  },
  {
   "cell_type": "markdown",
   "id": "b8471dc0-50d4-43fb-b3d0-04f2b10cc38c",
   "metadata": {},
   "source": [
    "R2 = (1- $\\frac{ Mean Square Error of regression line}{Mean Square Error of average of data}$) <br>\n",
    "It is the measure to determine how close the data is to the fitted regression line. <br>\n",
    "R2 $\\approx$ 1 : Line is best fit <br>\n",
    "R2 $\\approx$ 0 : Line is not a good fit "
   ]
  },
  {
   "cell_type": "code",
   "execution_count": 16,
   "id": "c12912a9-20de-46f2-b1c3-d657646e711e",
   "metadata": {},
   "outputs": [
    {
     "name": "stdout",
     "output_type": "stream",
     "text": [
      "The Root Mean Squared Error is 5.878622952029174\n"
     ]
    }
   ],
   "source": [
    "print(\"The Root Mean Squared Error is {}\".format(sqrt(mean_squared_error(y_test,y_pred))))"
   ]
  },
  {
   "cell_type": "code",
   "execution_count": 17,
   "id": "3623dd0c-b4d1-4f37-aaf2-1d2a4717e5d7",
   "metadata": {},
   "outputs": [
    {
     "name": "stdout",
     "output_type": "stream",
     "text": [
      "The Mean Absolute Error is 5.644117365779316\n"
     ]
    }
   ],
   "source": [
    "print(\"The Mean Absolute Error is {}\".format(mean_absolute_error(y_test,y_pred)))"
   ]
  },
  {
   "cell_type": "markdown",
   "id": "15415d56-c032-4111-a185-66ee62dabc5c",
   "metadata": {},
   "source": [
    "### Conclusion "
   ]
  },
  {
   "cell_type": "markdown",
   "id": "6be31049-a8b5-45c6-b682-bb89db25c371",
   "metadata": {},
   "source": [
    "Prediction was made successfully using supervised ML technique."
   ]
  },
  {
   "cell_type": "code",
   "execution_count": null,
   "id": "3671263f-4384-442a-9def-48b3f44a0714",
   "metadata": {},
   "outputs": [],
   "source": []
  }
 ],
 "metadata": {
  "kernelspec": {
   "display_name": "Python 3 (ipykernel)",
   "language": "python",
   "name": "python3"
  },
  "language_info": {
   "codemirror_mode": {
    "name": "ipython",
    "version": 3
   },
   "file_extension": ".py",
   "mimetype": "text/x-python",
   "name": "python",
   "nbconvert_exporter": "python",
   "pygments_lexer": "ipython3",
   "version": "3.9.7"
  }
 },
 "nbformat": 4,
 "nbformat_minor": 5
}
